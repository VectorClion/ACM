{
 "cells": [
  {
   "cell_type": "code",
   "execution_count": 1,
   "metadata": {},
   "outputs": [],
   "source": [
    "#!/usr/bin/env python3"
   ]
  },
  {
   "cell_type": "code",
   "execution_count": 2,
   "metadata": {},
   "outputs": [
    {
     "name": "stdout",
     "output_type": "stream",
     "text": [
      "[0, 1]\n"
     ]
    }
   ],
   "source": [
    "# 1 Two Sum [Easy]\n",
    "# Given an array of integers, return indices of the two numbers such that they add up to a specific target.\n",
    "# You may assume that each input would have exactly one solution, and you may not use the same element twice.\n",
    "# Example:\n",
    "# Given nums = [2, 7, 11, 15], target = 9,\n",
    "# Because nums[0] + nums[1] = 2 + 7 = 9,\n",
    "# return [0, 1].\n",
    "\n",
    "from typing import List\n",
    "\n",
    "\n",
    "class Solution:\n",
    "    def twoSum(self, nums: List[int], target: int) -> List[int]:\n",
    "        d, p = {}, 0\n",
    "        while p < len(nums):\n",
    "            if target - nums[p] not in d:\n",
    "                d[nums[p]] = p\n",
    "            else:\n",
    "                return [d[target-nums[p]], p]\n",
    "            p += 1\n",
    "            \n",
    "#Test\n",
    "print(Solution().twoSum([2, 7, 11, 15], 9))"
   ]
  },
  {
   "cell_type": "code",
   "execution_count": 3,
   "metadata": {},
   "outputs": [
    {
     "name": "stdout",
     "output_type": "stream",
     "text": [
      "[7, 0, 8]\n"
     ]
    }
   ],
   "source": [
    "# 2 Add Two Numbers [Medium]\n",
    "# You are given two non-empty linked lists representing two non-negative integers. The digits are stored in reverse order and each of their nodes contain a single digit. Add the two numbers and return it as a linked list.\n",
    "# You may assume the two numbers do not contain any leading zero, except the number 0 itself.\n",
    "# Example:\n",
    "# Input: (2 -> 4 -> 3) + (5 -> 6 -> 4)\n",
    "# Output: 7 -> 0 -> 8\n",
    "# Explanation: 342 + 465 = 807.\n",
    "\n",
    "class ListNode:\n",
    "    def __init__(self, x):\n",
    "        self.val = x\n",
    "        self.next = None\n",
    "\n",
    "class Solution:\n",
    "    def addTwoNumbers(self, l1, l2):\n",
    "        t = ListNode(0)\n",
    "        ans = t\n",
    "        c = 0\n",
    "        while ((l1 != None) | (l2 != None)):\n",
    "            if l1 == None:\n",
    "                l1 = ListNode(0)\n",
    "            if l2 == None:\n",
    "                l2 = ListNode(0)\n",
    "            val = l1.val + l2.val + c\n",
    "            t.next = ListNode(val % 10)\n",
    "            c = val // 10\n",
    "            l1 = l1.next\n",
    "            l2 = l2.next\n",
    "            t = t.next\n",
    "        if (c == 1):\n",
    "            t.next = ListNode(1)\n",
    "        return ans.next\n",
    "\n",
    "#Test\n",
    "s1=[2,4,3]\n",
    "s2=[5,6,4]\n",
    "a = fa = ListNode(0)\n",
    "b = fb = ListNode(0)\n",
    "for i in s1:\n",
    "    fa.next = ListNode(i)\n",
    "    fa = fa.next\n",
    "for j in s2:\n",
    "    fb.next = ListNode(j)\n",
    "    fb = fb.next\n",
    "a=a.next\n",
    "b=b.next\n",
    "\n",
    "ans = []\n",
    "res = Solution().addTwoNumbers(a, b)\n",
    "while True:\n",
    "    ans.append(res.val)\n",
    "    if res.next == None:\n",
    "        print(ans)\n",
    "        break\n",
    "    else:\n",
    "        res = res.next"
   ]
  },
  {
   "cell_type": "code",
   "execution_count": 4,
   "metadata": {},
   "outputs": [
    {
     "name": "stdout",
     "output_type": "stream",
     "text": [
      "3\n",
      "1\n",
      "3\n"
     ]
    }
   ],
   "source": [
    "# 3 Longest Substring Without Repeating Characters [Medium]\n",
    "# Given a string, find the length of the longest substring without repeating characters.\n",
    "# Example 1:\n",
    "# Input: \"abcabcbb\"\n",
    "# Output: 3 \n",
    "# Explanation: The answer is \"abc\", with the length of 3. \n",
    "# Example 2:\n",
    "# Input: \"bbbbb\"\n",
    "# Output: 1\n",
    "# Explanation: The answer is \"b\", with the length of 1.\n",
    "# Example 3:\n",
    "# Input: \"pwwkew\"\n",
    "# Output: 3\n",
    "# Explanation: The answer is \"wke\", with the length of 3. \n",
    "# Note that the answer must be a substring, \"pwke\" is a subsequence and not a substring.\n",
    "# 备注: 注意C++实现时使用map.insert() 不同于 java中的 map.put(), 前者检查如元素存在则不替换, 所以C++实现中要使用下标运算符[]覆盖已有Key的Value\n",
    "\n",
    "class Solution:\n",
    "    def lengthOfLongestSubstring(self, s:str) -> int:\n",
    "        n = len(s)\n",
    "        d = {}\n",
    "        i = ans = 0\n",
    "        for j in range(n):\n",
    "            if s[j] in d:\n",
    "                i = max(i, d[s[j]] + 1)\n",
    "            d[s[j]] = j\n",
    "            ans = max(ans, j - i + 1)\n",
    "        return ans\n",
    "\n",
    "#Test\n",
    "print(Solution().lengthOfLongestSubstring(\"abcabcbb\"))\n",
    "print(Solution().lengthOfLongestSubstring(\"bbbbb\"))\n",
    "print(Solution().lengthOfLongestSubstring(\"pwwkew\"))"
   ]
  },
  {
   "cell_type": "code",
   "execution_count": 5,
   "metadata": {},
   "outputs": [
    {
     "name": "stdout",
     "output_type": "stream",
     "text": [
      "2.0\n",
      "2.5\n"
     ]
    }
   ],
   "source": [
    "# 4 Median of Two Sorted Arrays [Hard]\n",
    "# There are two sorted arrays nums1 and nums2 of size m and n respectively.\n",
    "# Find the median of the two sorted arrays. The overall run time complexity should be O(log (m+n)).\n",
    "# You may assume nums1 and nums2 cannot be both empty.\n",
    "# Example 1:\n",
    "# nums1 = [1, 3]\n",
    "# nums2 = [2]\n",
    "# The median is 2.0\n",
    "# Example 2:\n",
    "# nums1 = [1, 2]\n",
    "# nums2 = [3, 4]\n",
    "# The median is (2 + 3)/2 = 2.5\n",
    "\n",
    "from typing import List\n",
    "\n",
    "\n",
    "class Solution:\n",
    "    def findMedianSortedArrays(self, nums1: List[int], nums2: List[int]) -> float:\n",
    "        \n",
    "        m, n = len(nums1), len(nums2)\n",
    "        if m > n: nums1, nums2, m, n = nums2, nums1, n, m\n",
    "        imin, imax, h = 0, m, (m + n  + 1) // 2\n",
    "        if m == 0 and n ==0: return ValueError\n",
    "        while True:\n",
    "            i = (imin + imax) // 2\n",
    "            j = h - i\n",
    "            if i > 0 and nums1[i-1] > nums2[j]:\n",
    "                imax = i -1\n",
    "            elif i < m and nums2[j-1] > nums1[i]:\n",
    "                imin = i + 1\n",
    "            else:\n",
    "                if i == 0: \n",
    "                    left_max = nums2[j-1]\n",
    "                elif j == 0:\n",
    "                    left_max = nums1[i-1]\n",
    "                else:\n",
    "                    left_max = max(nums1[i-1], nums2[j-1])\n",
    "                if i == m:\n",
    "                    right_min = nums2[j] if j<n else 0\n",
    "                elif j == n:\n",
    "                    right_min = nums1[i]\n",
    "                else:\n",
    "                    right_min = min(nums1[i], nums2[j])\n",
    "                if (m+n) % 2 == 0:\n",
    "                    return  (left_max + right_min) / 2.0\n",
    "                else:\n",
    "                    return left_max*1.0\n",
    "                \n",
    "print(Solution().findMedianSortedArrays([1, 3], [2]))\n",
    "print(Solution().findMedianSortedArrays([1, 2], [3, 4]))"
   ]
  },
  {
   "cell_type": "code",
   "execution_count": 6,
   "metadata": {},
   "outputs": [
    {
     "name": "stdout",
     "output_type": "stream",
     "text": [
      "bab\n",
      "bb\n"
     ]
    }
   ],
   "source": [
    "# 5 Longest Palindromic Substring [Medium]\n",
    "# Given a string s, find the longest palindromic substring in s. You may assume that the maximum length of s is 1000.\n",
    "# Example 1:\n",
    "# Input: \"babad\"\n",
    "# Output: \"bab\"\n",
    "# Note: \"aba\" is also a valid answer.\n",
    "# Example 2:\n",
    "# Input: \"cbbd\"\n",
    "# Output: \"bb\"\n",
    "# 备注：注意C++实现时使用str.substr(a, b)截取子串，参数代表从索引a开始截取b个字符，含义不同于python和java中下标操作符的起始索引参数\n",
    "\n",
    "class Solution:\n",
    "    def longestPalindrome(self, s: str) -> str:\n",
    "        return self.Manacher(s)\n",
    "        \n",
    "    def Manacher(self, s: str) -> str:\n",
    "        n = len(s)\n",
    "        if n < 2: return s\n",
    "        s_odd = []\n",
    "        for i in range(n):\n",
    "            s_odd.append(\"#\")\n",
    "            s_odd.append(s[i])\n",
    "        s_odd.append(\"#\")\n",
    "        \n",
    "        N = len(s_odd)\n",
    "        radius = [1]*N\n",
    "        C = R = mr = mi = 0\n",
    "        for i in range(N):\n",
    "            if (i < R): radius[i] = min(radius[2*C - i], R - i + 1)\n",
    "            while (i + radius[i] < N) & (i - radius[i] >= 0):\n",
    "                if s_odd[i - radius[i]] == s_odd[i + radius[i]]:\n",
    "                    radius[i] += 1\n",
    "                    if i + radius[i] > R:\n",
    "                        R = i + radius[i] - 1\n",
    "                        C = i\n",
    "                    if radius[i] > mr:\n",
    "                        mr = radius[i]\n",
    "                        mi = i\n",
    "                else: break\n",
    "        return \"\".join(s_odd[mi-mr+1:mi+mr]).replace(\"#\",\"\")\n",
    "                    \n",
    "            \n",
    "print(Solution().longestPalindrome(\"babad\"))\n",
    "print(Solution().longestPalindrome(\"cbbd\"))"
   ]
  },
  {
   "cell_type": "code",
   "execution_count": 2,
   "metadata": {},
   "outputs": [
    {
     "name": "stdout",
     "output_type": "stream",
     "text": [
      "PAHNAPLSIIGYIR\n",
      "PINALSIGYAHRPI\n"
     ]
    }
   ],
   "source": [
    "# 6 ZigZag Conversion [Medium]\n",
    "# The string \"PAYPALISHIRING\" is written in a zigzag pattern on a given number of rows like this: (you may want to display this pattern in a fixed font for better legibility)\n",
    "# P   A   H   N\n",
    "# A P L S I I G\n",
    "# Y   I   R\n",
    "# And then read line by line: \"PAHNAPLSIIGYIR\"\n",
    "# Write the code that will take a string and make this conversion given a number of rows:\n",
    "# string convert(string s, int numRows);\n",
    "# Example 1:\n",
    "# Input: s = \"PAYPALISHIRING\", numRows = 3\n",
    "# Output: \"PAHNAPLSIIGYIR\"\n",
    "# Example 2:\n",
    "# Input: s = \"PAYPALISHIRING\", numRows = 4\n",
    "# Output: \"PINALSIGYAHRPI\"\n",
    "# Explanation:\n",
    "# P     I    N\n",
    "# A   L S  I G\n",
    "# Y A   H R\n",
    "# P     I\n",
    "# 备注：C++和Java缺少类似Python下标操作符按步长切片的单一方法(如 s[begin: end: step])，所以可使用循环实现类似功能(如 for(int i=0;i<n;i+=step))\n",
    "\n",
    "class Solution:\n",
    "    def convert(self, s: str, numRows: int) -> str:\n",
    "        if numRows == 1 or numRows == 0: return s\n",
    "        n = len(s)\n",
    "        p = 2 * numRows - 2\n",
    "        ans = \"\"\n",
    "        for i in range(numRows):\n",
    "            if i == 0: ans += s[::p]\n",
    "            elif i == numRows-1: ans += s[i::p]\n",
    "            else:\n",
    "                for j in range(0, n, p):\n",
    "                    if j + i < n: ans += s[j+i]\n",
    "                    if j + p - i < n: ans += s[j+p-i]\n",
    "        return ans\n",
    "    \n",
    "\n",
    "print(Solution().convert(\"PAYPALISHIRING\", 3))\n",
    "print(Solution().convert(\"PAYPALISHIRING\", 4))"
   ]
  }
 ],
 "metadata": {
  "kernelspec": {
   "display_name": "Python 3",
   "language": "python",
   "name": "python3"
  },
  "language_info": {
   "codemirror_mode": {
    "name": "ipython",
    "version": 3
   },
   "file_extension": ".py",
   "mimetype": "text/x-python",
   "name": "python",
   "nbconvert_exporter": "python",
   "pygments_lexer": "ipython3",
   "version": "3.7.3"
  }
 },
 "nbformat": 4,
 "nbformat_minor": 2
}
